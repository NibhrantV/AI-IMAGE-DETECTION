{
  "nbformat": 4,
  "nbformat_minor": 0,
  "metadata": {
    "colab": {
      "provenance": []
    },
    "kernelspec": {
      "name": "python3",
      "display_name": "Python 3"
    },
    "language_info": {
      "name": "python"
    }
  },
  "cells": [
    {
      "cell_type": "code",
      "source": [
        "import pandas as pd\n",
        "import numpy as np\n",
        "from sklearn.model_selection import train_test_split\n",
        "from sklearn.metrics import accuracy_score\n",
        "from tensorflow.keras.models import Sequential\n",
        "from tensorflow.keras.layers import Conv2D, MaxPooling2D, Flatten, Dense, Dropout\n",
        "from tensorflow.keras.optimizers import Adam\n",
        "from tensorflow.keras.utils import to_categorical\n",
        "\n",
        "# Load the training data from the CSV file\n",
        "train_data = pd.read_csv('/content/drive/MyDrive/DATASET/train.csv')\n",
        "\n",
        "# Separate the features (neural layers) and the target variable\n",
        "X = train_data.iloc[:, 1:].values\n",
        "y = train_data.iloc[:, 0].values\n",
        "\n",
        "# Reshape the features to image-like format\n",
        "X = X.reshape(X.shape[0], 20, 20, 3)\n",
        "\n",
        "# Convert the target variable to categorical format\n",
        "y = to_categorical(y)\n",
        "\n",
        "# Split the data into training and validation sets\n",
        "X_train, X_val, y_train, y_val = train_test_split(X, y, test_size=0.2, random_state=42)\n",
        "\n",
        "# Create the CNN model\n",
        "model = Sequential()\n",
        "model.add(Conv2D(128, kernel_size=(10, 10), activation='relu', input_shape=(20, 20, 3)))\n",
        "model.add(Conv2D(64, kernel_size=(5, 5), activation='relu'))\n",
        "model.add(MaxPooling2D(pool_size=(2, 2)))\n",
        "model.add(Conv2D(32, kernel_size=(3, 3), activation='relu'))\n",
        "model.add(Flatten())\n",
        "model.add(Dense(128, activation='relu'))\n",
        "model.add(Dropout(0.5))\n",
        "model.add(Dense(64, activation='relu'))\n",
        "model.add(Dense(16, activation='relu'))\n",
        "model.add(Dense(2, activation='softmax'))\n",
        "\n",
        "# Compile the model with Adam optimizer and a lower learning rate\n",
        "optimizer = Adam(learning_rate=0.001)\n",
        "model.compile(loss='categorical_crossentropy', optimizer=optimizer, metrics=['accuracy'])\n",
        "\n",
        "# Train the model for more epochs\n",
        "model.fit(X_train, y_train, batch_size=32, epochs=30, validation_data=(X_val, y_val))\n",
        "\n",
        "# Load the testing data from the CSV file\n",
        "test_data = pd.read_csv('/content/drive/MyDrive/DATASET/test.csv')\n",
        "\n",
        "# Separate the features from the testing data\n",
        "X_test = test_data.iloc[:, 1:].values\n",
        "X_test = X_test.reshape(X_test.shape[0], 20, 20, 3)\n",
        "\n",
        "# Make predictions on the testing data\n",
        "predictions = model.predict(X_test)\n",
        "predicted_labels = np.argmax(predictions, axis=1)\n",
        "\n",
        "# Create a DataFrame with IDs and predictions\n",
        "result_df = pd.DataFrame({'id': test_data['id'], 'labels': predicted_labels})\n",
        "\n",
        "# Save the results to a CSV file\n",
        "result_df.to_csv('/content/drive/MyDrive/DATASET/soln/solution_format.csv', index=False)\n",
        "\n",
        "# Print the accuracy\n",
        "accuracy = accuracy_score(y_val.argmax(axis=1), np.argmax(model.predict(X_val), axis=1))\n",
        "print(\"Validation Accuracy:\", accuracy)\n"
      ],
      "metadata": {
        "colab": {
          "base_uri": "https://localhost:8080/"
        },
        "id": "Ic1QA3B3xZAM",
        "outputId": "7dc650cc-2c9c-412c-a35c-930b18537fbc"
      },
      "execution_count": null,
      "outputs": [
        {
          "output_type": "stream",
          "name": "stdout",
          "text": [
            "Epoch 1/30\n",
            "132/132 [==============================] - 15s 94ms/step - loss: 0.4092 - accuracy: 0.7990 - val_loss: 0.3597 - val_accuracy: 0.8200\n",
            "Epoch 2/30\n",
            "132/132 [==============================] - 12s 88ms/step - loss: 0.2785 - accuracy: 0.8724 - val_loss: 0.3242 - val_accuracy: 0.8562\n",
            "Epoch 3/30\n",
            "132/132 [==============================] - 13s 97ms/step - loss: 0.1674 - accuracy: 0.9350 - val_loss: 0.3650 - val_accuracy: 0.8476\n",
            "Epoch 4/30\n",
            "132/132 [==============================] - 13s 98ms/step - loss: 0.0869 - accuracy: 0.9695 - val_loss: 0.4670 - val_accuracy: 0.8438\n",
            "Epoch 5/30\n",
            "132/132 [==============================] - 13s 98ms/step - loss: 0.0582 - accuracy: 0.9793 - val_loss: 0.5792 - val_accuracy: 0.8438\n",
            "Epoch 6/30\n",
            "132/132 [==============================] - 13s 98ms/step - loss: 0.0403 - accuracy: 0.9833 - val_loss: 0.6072 - val_accuracy: 0.8419\n",
            "Epoch 7/30\n",
            "132/132 [==============================] - 13s 101ms/step - loss: 0.0274 - accuracy: 0.9883 - val_loss: 1.0115 - val_accuracy: 0.8410\n",
            "Epoch 8/30\n",
            "132/132 [==============================] - 13s 98ms/step - loss: 0.0307 - accuracy: 0.9895 - val_loss: 0.8214 - val_accuracy: 0.8419\n",
            "Epoch 9/30\n",
            "132/132 [==============================] - 13s 96ms/step - loss: 0.0231 - accuracy: 0.9936 - val_loss: 0.8450 - val_accuracy: 0.8124\n",
            "Epoch 10/30\n",
            "132/132 [==============================] - 12s 90ms/step - loss: 0.0129 - accuracy: 0.9957 - val_loss: 1.2436 - val_accuracy: 0.7838\n",
            "Epoch 11/30\n",
            "132/132 [==============================] - 12s 92ms/step - loss: 0.0416 - accuracy: 0.9848 - val_loss: 0.6827 - val_accuracy: 0.8343\n",
            "Epoch 12/30\n",
            "132/132 [==============================] - 13s 99ms/step - loss: 0.0117 - accuracy: 0.9969 - val_loss: 1.0916 - val_accuracy: 0.8152\n",
            "Epoch 13/30\n",
            "132/132 [==============================] - 13s 98ms/step - loss: 0.0082 - accuracy: 0.9969 - val_loss: 1.3832 - val_accuracy: 0.8305\n",
            "Epoch 14/30\n",
            "132/132 [==============================] - 13s 98ms/step - loss: 0.0161 - accuracy: 0.9940 - val_loss: 1.1466 - val_accuracy: 0.7829\n",
            "Epoch 15/30\n",
            "132/132 [==============================] - 13s 98ms/step - loss: 0.0243 - accuracy: 0.9917 - val_loss: 0.8940 - val_accuracy: 0.8371\n",
            "Epoch 16/30\n",
            "132/132 [==============================] - 15s 113ms/step - loss: 0.0208 - accuracy: 0.9948 - val_loss: 0.8654 - val_accuracy: 0.8324\n",
            "Epoch 17/30\n",
            "132/132 [==============================] - 13s 98ms/step - loss: 0.0075 - accuracy: 0.9974 - val_loss: 1.0461 - val_accuracy: 0.8352\n",
            "Epoch 18/30\n",
            "132/132 [==============================] - 13s 98ms/step - loss: 0.0011 - accuracy: 1.0000 - val_loss: 1.3483 - val_accuracy: 0.8305\n",
            "Epoch 19/30\n",
            "132/132 [==============================] - 12s 93ms/step - loss: 1.2428e-04 - accuracy: 1.0000 - val_loss: 1.4647 - val_accuracy: 0.8333\n",
            "Epoch 20/30\n",
            "132/132 [==============================] - 12s 88ms/step - loss: 2.7328e-05 - accuracy: 1.0000 - val_loss: 1.4947 - val_accuracy: 0.8333\n",
            "Epoch 21/30\n",
            "132/132 [==============================] - 13s 97ms/step - loss: 2.4463e-05 - accuracy: 1.0000 - val_loss: 1.5254 - val_accuracy: 0.8324\n",
            "Epoch 22/30\n",
            "132/132 [==============================] - 13s 98ms/step - loss: 1.6396e-05 - accuracy: 1.0000 - val_loss: 1.5489 - val_accuracy: 0.8324\n",
            "Epoch 23/30\n",
            "132/132 [==============================] - 13s 98ms/step - loss: 1.8414e-05 - accuracy: 1.0000 - val_loss: 1.5790 - val_accuracy: 0.8324\n",
            "Epoch 24/30\n",
            "132/132 [==============================] - 13s 98ms/step - loss: 1.3535e-05 - accuracy: 1.0000 - val_loss: 1.6029 - val_accuracy: 0.8314\n",
            "Epoch 25/30\n",
            "132/132 [==============================] - 13s 98ms/step - loss: 1.3059e-05 - accuracy: 1.0000 - val_loss: 1.6276 - val_accuracy: 0.8314\n",
            "Epoch 26/30\n",
            "132/132 [==============================] - 13s 98ms/step - loss: 9.7726e-06 - accuracy: 1.0000 - val_loss: 1.6506 - val_accuracy: 0.8314\n",
            "Epoch 27/30\n",
            "132/132 [==============================] - 12s 95ms/step - loss: 9.7395e-06 - accuracy: 1.0000 - val_loss: 1.6731 - val_accuracy: 0.8324\n",
            "Epoch 28/30\n",
            "132/132 [==============================] - 12s 87ms/step - loss: 1.4112e-05 - accuracy: 1.0000 - val_loss: 1.7040 - val_accuracy: 0.8314\n",
            "Epoch 29/30\n",
            "132/132 [==============================] - 13s 95ms/step - loss: 7.4832e-06 - accuracy: 1.0000 - val_loss: 1.7246 - val_accuracy: 0.8305\n",
            "Epoch 30/30\n",
            "132/132 [==============================] - 13s 98ms/step - loss: 5.5409e-06 - accuracy: 1.0000 - val_loss: 1.7443 - val_accuracy: 0.8314\n",
            "71/71 [==============================] - 1s 19ms/step\n",
            "33/33 [==============================] - 1s 19ms/step\n",
            "Validation Accuracy: 0.8314285714285714\n"
          ]
        }
      ]
    },
    {
      "cell_type": "code",
      "source": [
        "from sklearn.metrics import f1_score\n",
        "\n",
        "# Make predictions on the validation data\n",
        "val_predictions = model.predict(X_val)\n",
        "val_predicted_labels = np.argmax(val_predictions, axis=1)\n",
        "\n",
        "# Calculate the F1 score\n",
        "f1 = f1_score(np.argmax(y_val, axis=1), val_predicted_labels)\n",
        "\n",
        "print(\"Validation F1 Score:\", f1)"
      ],
      "metadata": {
        "colab": {
          "base_uri": "https://localhost:8080/"
        },
        "id": "NNxfqpDQpxCy",
        "outputId": "3a54e720-41af-44fe-dd44-3d48e16723a7"
      },
      "execution_count": null,
      "outputs": [
        {
          "output_type": "stream",
          "name": "stdout",
          "text": [
            "33/33 [==============================] - 1s 19ms/step\n",
            "Validation F1 Score: 0.6563106796116505\n"
          ]
        }
      ]
    }
  ]
}